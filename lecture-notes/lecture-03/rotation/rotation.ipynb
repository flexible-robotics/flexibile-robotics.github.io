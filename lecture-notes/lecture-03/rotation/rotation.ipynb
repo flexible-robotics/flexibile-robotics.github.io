{
 "cells": [
  {
   "cell_type": "markdown",
   "id": "e4fbf54a-0601-466a-9903-7e9a20b6033c",
   "metadata": {},
   "source": [
    "Here is some documentation\n",
    "\n",
    "## Here is a heading\n",
    "\n",
    "![caption](https://upload.wikimedia.org/wikipedia/commons/thumb/5/5b/Rotation_illus.svg/220px-Rotation_illus.svg.png)\n",
    "\n",
    "* item 1 \n",
    "* item 2 \n",
    "* item 3\n",
    "\n",
    "1. item 1\n",
    "1. item 2\n",
    "1. item 3\n",
    "\n",
    "Math Mode inline: $ax+by+c=d^2$\n",
    "\n",
    "$$a+b+c=d^2$$"
   ]
  },
  {
   "cell_type": "code",
   "execution_count": 1,
   "id": "188069a3-1249-4db8-856c-ec18f3f47e63",
   "metadata": {
    "tags": []
   },
   "outputs": [],
   "source": [
    "import numpy"
   ]
  },
  {
   "cell_type": "code",
   "execution_count": 2,
   "id": "144fe4b0-1c78-40a3-a70b-77cfbb98a4cb",
   "metadata": {
    "tags": []
   },
   "outputs": [
    {
     "data": {
      "text/plain": [
       "array([[1, 2, 3],\n",
       "       [4, 5, 6],\n",
       "       [7, 8, 9]])"
      ]
     },
     "execution_count": 2,
     "metadata": {},
     "output_type": "execute_result"
    }
   ],
   "source": [
    "R = numpy.array([[1,2,3],[4,5,6],[7,8,9]])\n",
    "R"
   ]
  },
  {
   "cell_type": "code",
   "execution_count": 3,
   "id": "4a6ba820-fa8e-4ff8-baae-2c6a2bc55023",
   "metadata": {
    "tags": []
   },
   "outputs": [
    {
     "data": {
      "text/plain": [
       "(3, 3)"
      ]
     },
     "execution_count": 3,
     "metadata": {},
     "output_type": "execute_result"
    }
   ],
   "source": [
    "R.shape\n"
   ]
  },
  {
   "cell_type": "code",
   "execution_count": 4,
   "id": "7fd2f625-9c10-47c8-a120-314ba13ccb48",
   "metadata": {
    "tags": []
   },
   "outputs": [
    {
     "data": {
      "text/plain": [
       "(1, 3)"
      ]
     },
     "execution_count": 4,
     "metadata": {},
     "output_type": "execute_result"
    }
   ],
   "source": [
    "R[0:1,:].shape"
   ]
  },
  {
   "cell_type": "code",
   "execution_count": 5,
   "id": "307dd0d0-a6d1-44dc-912f-7656891e6b04",
   "metadata": {
    "tags": []
   },
   "outputs": [
    {
     "data": {
      "text/plain": [
       "3.141592653589793"
      ]
     },
     "execution_count": 5,
     "metadata": {},
     "output_type": "execute_result"
    }
   ],
   "source": [
    "from math import sin,cos,pi\n",
    "import math\n",
    "math.sin\n",
    "math.pi"
   ]
  },
  {
   "cell_type": "code",
   "execution_count": 6,
   "id": "749cb2b4-19bf-467c-a712-98bc0f01ff44",
   "metadata": {
    "tags": []
   },
   "outputs": [
    {
     "data": {
      "text/plain": [
       "3.141592653589793"
      ]
     },
     "execution_count": 6,
     "metadata": {},
     "output_type": "execute_result"
    }
   ],
   "source": [
    "pi"
   ]
  },
  {
   "cell_type": "code",
   "execution_count": 7,
   "id": "8386353b-1f32-4c9e-be73-53a6abc14600",
   "metadata": {
    "tags": []
   },
   "outputs": [],
   "source": [
    "theta = pi/6"
   ]
  },
  {
   "cell_type": "code",
   "execution_count": 8,
   "id": "9f36a45f-817a-49d0-907e-837fdbef6057",
   "metadata": {
    "tags": []
   },
   "outputs": [],
   "source": [
    "Rz = numpy.array([[cos(theta),-sin(theta),0],[sin(theta),cos(theta),0],[0,0,1]])"
   ]
  },
  {
   "cell_type": "code",
   "execution_count": 9,
   "id": "aa577718-3ebf-43ff-bf80-e834a2d6127d",
   "metadata": {
    "tags": []
   },
   "outputs": [
    {
     "data": {
      "text/plain": [
       "array([[ 0.8660254, -0.5      ,  0.       ],\n",
       "       [ 0.5      ,  0.8660254,  0.       ],\n",
       "       [ 0.       ,  0.       ,  1.       ]])"
      ]
     },
     "execution_count": 9,
     "metadata": {},
     "output_type": "execute_result"
    }
   ],
   "source": [
    "Rz"
   ]
  },
  {
   "cell_type": "code",
   "execution_count": 10,
   "id": "c6fedb34-6b1d-477c-a54a-88b013bc2168",
   "metadata": {
    "tags": []
   },
   "outputs": [],
   "source": [
    "bx = numpy.array([[1,0,0]]).T\n",
    "by = numpy.array([[0,1,0]]).T\n",
    "bz = numpy.array([[0,0,1]]).T\n"
   ]
  },
  {
   "cell_type": "code",
   "execution_count": 11,
   "id": "4f55ede4-f59a-4a90-8782-811ba540de2a",
   "metadata": {
    "tags": []
   },
   "outputs": [
    {
     "data": {
      "text/plain": [
       "array([[1],\n",
       "       [0],\n",
       "       [0]])"
      ]
     },
     "execution_count": 11,
     "metadata": {},
     "output_type": "execute_result"
    }
   ],
   "source": [
    "bx"
   ]
  },
  {
   "cell_type": "code",
   "execution_count": 12,
   "id": "03f64fdf-ef53-4924-87e3-6e70fb584069",
   "metadata": {
    "tags": []
   },
   "outputs": [
    {
     "data": {
      "text/plain": [
       "array([[0],\n",
       "       [1],\n",
       "       [0]])"
      ]
     },
     "execution_count": 12,
     "metadata": {},
     "output_type": "execute_result"
    }
   ],
   "source": [
    "\n",
    "by"
   ]
  },
  {
   "cell_type": "code",
   "execution_count": 13,
   "id": "f133d9dd-9913-4cfc-b88a-e84f5459c95d",
   "metadata": {
    "tags": []
   },
   "outputs": [
    {
     "data": {
      "text/plain": [
       "array([[0],\n",
       "       [0],\n",
       "       [1]])"
      ]
     },
     "execution_count": 13,
     "metadata": {},
     "output_type": "execute_result"
    }
   ],
   "source": [
    "bz"
   ]
  },
  {
   "cell_type": "code",
   "execution_count": 14,
   "id": "3f93280f-fc32-4df5-9c89-42852ac77c9e",
   "metadata": {
    "tags": []
   },
   "outputs": [],
   "source": [
    "v1 = Rz.dot(bx)"
   ]
  },
  {
   "cell_type": "code",
   "execution_count": 15,
   "id": "8f5754ee-3660-4211-9e89-6ff98cbf8edf",
   "metadata": {
    "tags": []
   },
   "outputs": [
    {
     "data": {
      "text/plain": [
       "array([[0.8660254],\n",
       "       [0.5      ],\n",
       "       [0.       ]])"
      ]
     },
     "execution_count": 15,
     "metadata": {},
     "output_type": "execute_result"
    }
   ],
   "source": [
    "v1"
   ]
  },
  {
   "cell_type": "code",
   "execution_count": 16,
   "id": "58c1b821-8392-4dd8-abb2-7a3d2e6e3a63",
   "metadata": {
    "tags": []
   },
   "outputs": [
    {
     "data": {
      "text/plain": [
       "array([[-0.5      ],\n",
       "       [ 0.8660254],\n",
       "       [ 0.       ]])"
      ]
     },
     "execution_count": 16,
     "metadata": {},
     "output_type": "execute_result"
    }
   ],
   "source": [
    "Rz.dot(by)"
   ]
  },
  {
   "cell_type": "code",
   "execution_count": 17,
   "id": "4a0340c1-0f85-4e7d-ac87-55d8532a5b7d",
   "metadata": {
    "tags": []
   },
   "outputs": [
    {
     "data": {
      "text/plain": [
       "array([[0.],\n",
       "       [0.],\n",
       "       [1.]])"
      ]
     },
     "execution_count": 17,
     "metadata": {},
     "output_type": "execute_result"
    }
   ],
   "source": [
    "Rz.dot(bz)"
   ]
  },
  {
   "cell_type": "code",
   "execution_count": 18,
   "id": "80a3a3c6-f9e0-4b76-8828-5654251954bb",
   "metadata": {
    "tags": []
   },
   "outputs": [],
   "source": [
    "def Rz(theta):\n",
    "        R = numpy.array([[cos(theta),-sin(theta),0],[sin(theta),cos(theta),0],[0,0,1]])\n",
    "        return R"
   ]
  },
  {
   "cell_type": "code",
   "execution_count": 19,
   "id": "e6cb2447-505c-4fb3-ad87-cfab4099fa5c",
   "metadata": {
    "tags": []
   },
   "outputs": [
    {
     "data": {
      "text/plain": [
       "array([[ 6.123234e-17, -1.000000e+00,  0.000000e+00],\n",
       "       [ 1.000000e+00,  6.123234e-17,  0.000000e+00],\n",
       "       [ 0.000000e+00,  0.000000e+00,  1.000000e+00]])"
      ]
     },
     "execution_count": 19,
     "metadata": {},
     "output_type": "execute_result"
    }
   ],
   "source": [
    "Rz(90*pi/180)"
   ]
  },
  {
   "cell_type": "code",
   "execution_count": 20,
   "id": "a5a7cb7b-545c-403d-8391-9319071e1076",
   "metadata": {
    "tags": []
   },
   "outputs": [],
   "source": [
    "import matplotlib.pyplot as plt\n"
   ]
  },
  {
   "cell_type": "code",
   "execution_count": 21,
   "id": "a7e995f0-05c9-45a0-8edc-6a617e45a113",
   "metadata": {
    "tags": []
   },
   "outputs": [],
   "source": [
    "la = 3\n",
    "lb = 2\n",
    "R1 = Rz(45*pi/180)\n",
    "\n",
    "p0 = numpy.array([[0,0,0]]).T"
   ]
  },
  {
   "cell_type": "code",
   "execution_count": 22,
   "id": "f84cacb6-84e6-4728-b47c-d121e4f04455",
   "metadata": {
    "tags": []
   },
   "outputs": [],
   "source": [
    "p0p1 = numpy.array([[la,0,0]]).T\n",
    "p1p2 = numpy.array([[lb,0,0]]).T\n",
    "\n",
    "p1 = p0+p0p1\n",
    "p2 = p0+p0p1+R1.dot(p1p2)"
   ]
  },
  {
   "cell_type": "code",
   "execution_count": 23,
   "id": "8b030ad7-864f-4818-a801-459094e0f8e8",
   "metadata": {
    "tags": []
   },
   "outputs": [
    {
     "data": {
      "text/plain": [
       "array([[0.        , 0.        , 0.        ],\n",
       "       [3.        , 0.        , 0.        ],\n",
       "       [4.41421356, 1.41421356, 0.        ]])"
      ]
     },
     "execution_count": 23,
     "metadata": {},
     "output_type": "execute_result"
    }
   ],
   "source": [
    "points = numpy.array([p0,p1,p2])\n",
    "points = points.squeeze()\n",
    "points"
   ]
  },
  {
   "cell_type": "code",
   "execution_count": 24,
   "id": "1e4b90d1-8817-494c-9e2b-969a60d639aa",
   "metadata": {
    "tags": []
   },
   "outputs": [
    {
     "data": {
      "text/plain": [
       "(-0.22071067811865475,\n",
       " 4.63492424049175,\n",
       " -0.07071067811865475,\n",
       " 1.4849242404917498)"
      ]
     },
     "execution_count": 24,
     "metadata": {},
     "output_type": "execute_result"
    },
    {
     "data": {
      "image/png": "[encoded data removed]",
      "text/plain": [
       "<Figure size 640x480 with 1 Axes>"
      ]
     },
     "metadata": {},
     "output_type": "display_data"
    }
   ],
   "source": [
    "plt.plot(points[:,0],points[:,1])\n",
    "plt.axis('equal')"
   ]
  },
  {
   "cell_type": "code",
   "execution_count": null,
   "id": "e403ca6e-fd11-44f6-951b-903e58a11cc7",
   "metadata": {},
   "outputs": [],
   "source": []
  }
 ],
 "metadata": {
  "kernelspec": {
   "display_name": "Python 3 (ipykernel)",
   "language": "python",
   "name": "python3"
  },
  "language_info": {
   "codemirror_mode": {
    "name": "ipython",
    "version": 3
   },
   "file_extension": ".py",
   "mimetype": "text/x-python",
   "name": "python",
   "nbconvert_exporter": "python",
   "pygments_lexer": "ipython3",
   "version": "3.10.12"
  }
 },
 "nbformat": 4,
 "nbformat_minor": 5
}
