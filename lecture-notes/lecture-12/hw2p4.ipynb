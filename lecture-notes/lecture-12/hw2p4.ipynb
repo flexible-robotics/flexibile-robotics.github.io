{
 "cells": [
  {
   "cell_type": "code",
   "execution_count": null,
   "id": "9ee0708a-0319-41c3-a33a-832a05224a91",
   "metadata": {},
   "outputs": [],
   "source": [
    "%matplotlib qt"
   ]
  },
  {
   "cell_type": "code",
   "execution_count": null,
   "id": "d9126f35-c83f-43da-95e3-f462a7537f91",
   "metadata": {},
   "outputs": [],
   "source": [
    "import matplotlib.pyplot as plt\n",
    "import numpy\n",
    "import math\n",
    "import sympy"
   ]
  },
  {
   "cell_type": "code",
   "execution_count": null,
   "id": "e0caacc6-4b5b-4f65-842c-8c829cc5a703",
   "metadata": {
    "tags": []
   },
   "outputs": [],
   "source": [
    "class Quaternion(object):\n",
    "    def __init__(self,a,b,c,d):\n",
    "        self.a = a\n",
    "        self.b = b\n",
    "        self.c = c\n",
    "        self.d = d\n",
    "\n",
    "    def __mul__(self,other):\n",
    "        a = self.a*other.a - self.b*other.b - self.c*other.c - self.d*other.d\n",
    "        b = self.a*other.b + self.b*other.a + self.c*other.d - self.d*other.c\n",
    "        c = self.a*other.c + self.c*other.a + self.d*other.b - self.b*other.d\n",
    "        d = self.a*other.d + self.d*other.a + self.b*other.c - self.c*other.b\n",
    "        quat = Quaternion(a,b,c,d)\n",
    "        return quat\n",
    "    \n",
    "    def __add__(self,other):\n",
    "        a = self.a+other.a\n",
    "        b = self.b+other.b\n",
    "        c = self.c+other.c\n",
    "        d = self.d+other.d\n",
    "        q = Quaternion(a,b,c,d)\n",
    "        return q\n",
    "    \n",
    "    def __neg__(self):\n",
    "        return Quaternion(-self.a,-self.b,-self.c,-self.d)\n",
    "    \n",
    "    def __sub__(self,other):\n",
    "        return (self + (-other))\n",
    "    \n",
    "    def __str__(self):\n",
    "        s = '{}+{}i+{}j+{}k'.format(self.a,self.b,self.c,self.d)\n",
    "        return s\n",
    "    \n",
    "    def __repr__(self):\n",
    "        return str(self)\n",
    "    \n",
    "    def conj(self):\n",
    "        return self.conjugate()\n",
    "\n",
    "    def conjugate(self):\n",
    "        return Quaternion(self.a,-self.b,-self.c,-self.d)\n",
    "\n",
    "    def real(self):\n",
    "        return self.a\n",
    "\n",
    "    def imaginary(self):\n",
    "        return self.b,self.c,self.d\n",
    "\n",
    "    @staticmethod\n",
    "    def from_axis_angle(v,theta,symbolic = False):\n",
    "        v = v.flatten()\n",
    "        l = (v.dot(v))**.5\n",
    "        v = (v/l).tolist()\n",
    "        if symbolic:\n",
    "            import sympy\n",
    "            a = sympy.cos(theta/2)\n",
    "            s = sympy.sin(theta/2)\n",
    "        else:\n",
    "            a = math.cos(theta/2)\n",
    "            s = math.sin(theta/2)\n",
    "        b = s*v[0]\n",
    "        c = s*v[1]\n",
    "        d = s*v[2]\n",
    "        q = Quaternion(a,b,c,d)\n",
    "        return q\n",
    "    \n",
    "    def to_rot(self):\n",
    "        v1 = self*Quaternion(0,1,0,0)*self.conjugate()\n",
    "        v2 = self*Quaternion(0,0,1,0)*self.conjugate()\n",
    "        v3 = self*Quaternion(0,0,0,1)*self.conjugate()\n",
    "\n",
    "        v1 = numpy.array([v1.simplify().imaginary()]).T\n",
    "        v2 = numpy.array([v2.simplify().imaginary()]).T\n",
    "        v3 = numpy.array([v3.simplify().imaginary()]).T\n",
    "\n",
    "        R = numpy.hstack([v1,v2,v3])\n",
    "\n",
    "        return R\n",
    "    \n",
    "    def simplify(self):\n",
    "        a = self.a.simplify()\n",
    "        b = self.b.simplify()\n",
    "        c = self.c.simplify()\n",
    "        d = self.d.simplify()\n",
    "        return Quaternion(a,b,c,d)\n",
    "\n",
    "    def subs(self,dict1):\n",
    "        try:\n",
    "            a = self.a.subs(dict1)\n",
    "        except AttributeError:\n",
    "            a = self.a\n",
    "        try:\n",
    "            b = self.b.subs(dict1)\n",
    "        except AttributeError:\n",
    "            b = self.b\n",
    "        try:\n",
    "            c = self.c.subs(dict1)\n",
    "        except AttributeError:\n",
    "            c = self.c\n",
    "        try:\n",
    "            d = self.d.subs(dict1)\n",
    "        except AttributeError:\n",
    "            d = self.d                        \n",
    "\n",
    "        return Quaternion(a,b,c,d)"
   ]
  },
  {
   "cell_type": "code",
   "execution_count": null,
   "id": "ad9991d0-e03e-413e-9956-b596f2731136",
   "metadata": {
    "tags": []
   },
   "outputs": [],
   "source": [
    "v0 = [0,0,0]\n",
    "v1 = [1,0,0]\n",
    "v2 = [1,1,0]\n",
    "v3 = [-1,1,0]\n",
    "v4 = [0,-1,0]\n",
    "\n",
    "v0 = numpy.array([v0]).T\n",
    "v1 = numpy.array([v1]).T\n",
    "v2 = numpy.array([v2]).T\n",
    "v3 = numpy.array([v3]).T\n",
    "v4 = numpy.array([v4]).T\n",
    "\n",
    "v = numpy.hstack([v0,v1,v2,v3,v4])\n",
    "\n",
    "plt.plot(v[0,(0,1,0,2,0,3,0,4,3,2,1)],v[1,(0,1,0,2,0,3,0,4,3,2,1)])"
   ]
  },
  {
   "cell_type": "code",
   "execution_count": null,
   "id": "1b166a1a-5ac2-4312-92d1-084422259da7",
   "metadata": {
    "tags": []
   },
   "outputs": [],
   "source": [
    "a1, a2, a3,a4 = sympy.symbols('a1,a2,a3,a4')"
   ]
  },
  {
   "cell_type": "code",
   "execution_count": null,
   "id": "c8e79c25-12a2-4d17-9b0f-7ab5452f0afe",
   "metadata": {
    "tags": []
   },
   "outputs": [],
   "source": [
    "r1 = Quaternion.from_axis_angle(v1,a1,symbolic=True)\n",
    "r2 = Quaternion.from_axis_angle(v2,a2,symbolic=True)\n",
    "r3 = Quaternion.from_axis_angle(v3,a3,symbolic=True)\n",
    "r4 = Quaternion.from_axis_angle(v4,a4,symbolic=True)"
   ]
  },
  {
   "cell_type": "code",
   "execution_count": null,
   "id": "0787cd85-9dc8-45a3-91d5-23cceb37ba3d",
   "metadata": {
    "tags": []
   },
   "outputs": [],
   "source": [
    "r1"
   ]
  },
  {
   "cell_type": "code",
   "execution_count": null,
   "id": "1627a7d0-f274-467a-9060-8484c3b7a357",
   "metadata": {
    "tags": []
   },
   "outputs": [],
   "source": [
    "r2"
   ]
  },
  {
   "cell_type": "code",
   "execution_count": null,
   "id": "f1d7300f-9521-4413-99a2-18e60abb6768",
   "metadata": {
    "tags": []
   },
   "outputs": [],
   "source": [
    "p1 = Quaternion(0,*v1.flatten().tolist())\n",
    "p2 = Quaternion(0,*v2.flatten().tolist())\n",
    "p3 = Quaternion(0,*v3.flatten().tolist())\n",
    "p4 = Quaternion(0,*v4.flatten().tolist())"
   ]
  },
  {
   "cell_type": "code",
   "execution_count": null,
   "id": "26d96600-4784-4586-bc05-a2a066d1af11",
   "metadata": {
    "tags": []
   },
   "outputs": [],
   "source": [
    "p1"
   ]
  },
  {
   "cell_type": "code",
   "execution_count": null,
   "id": "043dd83a-1fbf-4675-a807-a6620233e2ff",
   "metadata": {
    "tags": []
   },
   "outputs": [],
   "source": [
    "p4"
   ]
  },
  {
   "cell_type": "code",
   "execution_count": null,
   "id": "f2b9caef-7fdc-4bea-a256-713fc3e18268",
   "metadata": {},
   "outputs": [],
   "source": [
    "p3p = r2*p3*r2.conj()\n",
    "p4p = r2*r3*p4*r3.conj()*r2.conj()\n",
    "p1p = r2*r3*r4*p1*r4.conj()*r3.conj()*r2.conj()\n",
    "p2p = r2*r3*r4*r1*p2*r1.conj()*r4.conj()*r3.conj()*r2.conj()"
   ]
  },
  {
   "cell_type": "code",
   "execution_count": null,
   "id": "c035b950-6b17-44a5-8ee7-dcfaa126204a",
   "metadata": {
    "tags": []
   },
   "outputs": [],
   "source": [
    "p3pv = numpy.array([p3p.imaginary()]).T\n",
    "p4pv = numpy.array([p4p.imaginary()]).T\n",
    "p1pv = numpy.array([p1p.imaginary()]).T\n",
    "p2pv = numpy.array([p2p.imaginary()]).T\n",
    "\n",
    "x = [30*math.pi/180,30*math.pi/180,30*math.pi/180,30*math.pi/180]\n",
    "\n",
    "alpha1,alpha2,alpha3,alpha4 = x\n",
    "\n",
    "subs_dict = {a1:alpha1,a2:alpha2,a3:alpha3,a4:alpha4}\n",
    "    \n",
    "p_p = numpy.hstack([v0,v1,v2,p3pv,p4pv,p1pv,p2pv])\n",
    "p_p = sympy.Matrix(p_p)\n",
    "p_p = p_p.subs(subs_dict)\n",
    "p_p = numpy.array(p_p,dtype = float)\n",
    "\n",
    "fig = plt.figure()\n",
    "ax = fig.add_subplot(projection='3d')\n",
    "ax.plot(*p_p[:,(0,1,0,2,0,3,0,4,0,5,0,6,5,4,3,2,1)])\n",
    "plt.axis('equal')\n",
    "plt.show()"
   ]
  },
  {
   "cell_type": "code",
   "execution_count": null,
   "id": "b946b58e-f2b5-4d9c-bb6a-1c7dd9a0e1ce",
   "metadata": {},
   "outputs": [],
   "source": []
  }
 ],
 "metadata": {
  "kernelspec": {
   "display_name": "Python 3 (ipykernel)",
   "language": "python",
   "name": "python3"
  },
  "language_info": {
   "codemirror_mode": {
    "name": "ipython",
    "version": 3
   },
   "file_extension": ".py",
   "mimetype": "text/x-python",
   "name": "python",
   "nbconvert_exporter": "python",
   "pygments_lexer": "ipython3",
   "version": "3.10.13"
  }
 },
 "nbformat": 4,
 "nbformat_minor": 5
}
