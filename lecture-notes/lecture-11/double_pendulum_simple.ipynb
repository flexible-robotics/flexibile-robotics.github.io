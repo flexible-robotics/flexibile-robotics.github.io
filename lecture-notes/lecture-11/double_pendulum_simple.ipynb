{
 "cells": [
  {
   "cell_type": "code",
   "execution_count": null,
   "id": "425a230d-05ab-4f6c-bf9b-8728d0f395dd",
   "metadata": {
    "tags": []
   },
   "outputs": [],
   "source": [
    "import os\n",
    "import mujoco\n",
    "import numpy\n",
    "import mediapy as media\n",
    "import matplotlib.pyplot as plt"
   ]
  },
  {
   "cell_type": "code",
   "execution_count": null,
   "id": "3f84fefb-64f1-4d7f-93a5-358a1b0670b3",
   "metadata": {
    "tags": []
   },
   "outputs": [],
   "source": [
    "xml = \"\"\"\n",
    "<mujoco>\n",
    "    <worldbody>\n",
    "        <light name=\"top\" pos=\"0 0 1\"/>\n",
    "        <body name=\"A\" pos=\"0 0 1\">\n",
    "            <joint name=\"j1\" type=\"hinge\" axis=\"0 1 0\" pos=\"0 0 0\"/>\n",
    "            <geom type=\"box\" size=\".5 .05 .05\" pos=\".5 0 0\" rgba=\"1 0 0 1\" mass=\"1\"/>\n",
    "            <body name=\"B\" pos=\"1 0 0\">\n",
    "                <joint name=\"j2\" type=\"hinge\" axis=\"0 1 0\" pos=\"0 0 0\"/>\n",
    "                <geom type=\"box\" size=\".5 .05 .05\" pos=\".5 0 0\" rgba=\"1 0 0 1\" mass=\"1\"/>\n",
    "            </body>\n",
    "        </body>\n",
    "    </worldbody>\n",
    "</mujoco>\n",
    "\"\"\""
   ]
  },
  {
   "cell_type": "code",
   "execution_count": null,
   "id": "28102de2-167a-4e31-a686-c1f607b8ad43",
   "metadata": {
    "tags": []
   },
   "outputs": [],
   "source": [
    "model = mujoco.MjModel.from_xml_string(xml)\n",
    "data = mujoco.MjData(model)\n",
    "renderer = mujoco.Renderer(model)"
   ]
  },
  {
   "cell_type": "code",
   "execution_count": null,
   "id": "09a7edd9-4efe-414b-baa6-659c26df75f1",
   "metadata": {
    "tags": []
   },
   "outputs": [],
   "source": [
    "scene_option = mujoco.MjvOption()"
   ]
  },
  {
   "cell_type": "code",
   "execution_count": null,
   "id": "15798498-c91c-4f39-bab1-72968cce472b",
   "metadata": {
    "tags": []
   },
   "outputs": [],
   "source": [
    "duration = 10  # (seconds)\n",
    "framerate = 30  # (Hz)"
   ]
  },
  {
   "cell_type": "code",
   "execution_count": null,
   "id": "603ecc89-6231-429d-b03d-c0877cc3544d",
   "metadata": {
    "tags": []
   },
   "outputs": [],
   "source": [
    "frames = []\n",
    "mujoco.mj_resetData(model, data)\n",
    "while data.time < duration:\n",
    "  mujoco.mj_step(model, data)\n",
    "  if len(frames) < data.time * framerate:\n",
    "    renderer.update_scene(data, scene_option=scene_option)\n",
    "    pixels = renderer.render()\n",
    "    frames.append(pixels)"
   ]
  },
  {
   "cell_type": "code",
   "execution_count": null,
   "id": "11b5db4f-3357-4902-8535-5ee643cc0df8",
   "metadata": {
    "tags": []
   },
   "outputs": [],
   "source": [
    "media.show_video(frames, fps=framerate)"
   ]
  },
  {
   "cell_type": "code",
   "execution_count": null,
   "id": "0f114fc2-ddb1-4569-a86f-875e364ac441",
   "metadata": {},
   "outputs": [],
   "source": []
  }
 ],
 "metadata": {
  "kernelspec": {
   "display_name": "Python 3 (ipykernel)",
   "language": "python",
   "name": "python3"
  },
  "language_info": {
   "codemirror_mode": {
    "name": "ipython",
    "version": 3
   },
   "file_extension": ".py",
   "mimetype": "text/x-python",
   "name": "python",
   "nbconvert_exporter": "python",
   "pygments_lexer": "ipython3",
   "version": "3.9.18"
  }
 },
 "nbformat": 4,
 "nbformat_minor": 5
}
