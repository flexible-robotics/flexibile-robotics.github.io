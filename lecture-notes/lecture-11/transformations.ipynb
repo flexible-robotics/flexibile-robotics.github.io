{
 "cells": [
  {
   "cell_type": "code",
   "execution_count": 1,
   "id": "38c44e58-85d1-4741-acd0-ca86ff15a961",
   "metadata": {
    "tags": []
   },
   "outputs": [],
   "source": [
    "import os\n",
    "import mujoco\n",
    "import numpy\n",
    "import mediapy as media\n",
    "import matplotlib.pyplot as plt"
   ]
  },
  {
   "cell_type": "code",
   "execution_count": 2,
   "id": "a80ade87-e6f8-4848-8025-50dc21ad815d",
   "metadata": {
    "tags": []
   },
   "outputs": [],
   "source": [
    "xml = '''\n",
    "<mujoco>\n",
    "    <compiler angle=\"degree\" />\n",
    "    <worldbody>\n",
    "        <light name=\"light1\" pos=\"0 0 5\" />\n",
    "        <camera name=\"world\" pos=\"0 -5 0\" quat=\".707 .707 0 0\"/>\n",
    "        <body pos=\"0 0 0\" axisangle=\"0 1 0 0\">\n",
    "            <geom type=\"box\" size=\".5 .05 .05\" pos=\"0 0 0\" rgba=\"1 0 0 1\"/>\n",
    "            <geom type=\"box\" size=\".05 .5 .05\" pos=\"0 0 0\" rgba=\"0 1 0 1\"/>\n",
    "            <geom type=\"box\" size=\".05 .05 .5\" pos=\"0 0 0\" rgba=\"0 0 1 1\"/>\n",
    "        </body>\n",
    "        <body pos=\"1 0 0\" axisangle=\"0 1 0 45\">\n",
    "            <geom type=\"box\" size=\".5 .05 .05\" pos=\"0 0 0\" rgba=\"1 0 0 1\"/>\n",
    "            <geom type=\"box\" size=\".05 .5 .05\" pos=\"0 0 0\" rgba=\"0 1 0 1\"/>\n",
    "            <geom type=\"box\" size=\".05 .05 .5\" pos=\"0 0 0\" rgba=\"0 0 1 1\"/>\n",
    "        </body>\n",
    "        <body pos=\"0 0 0\" axisangle=\"0 1 0 45\">\n",
    "            <geom type=\"box\" size=\".5 .05 .05\" pos=\"1.1 0 0\" rgba=\"1 0 0 1\"/>\n",
    "            <geom type=\"box\" size=\".05 .5 .05\" pos=\"1.1 0 0\" rgba=\"0 1 0 1\"/>\n",
    "            <geom type=\"box\" size=\".05 .05 .5\" pos=\"1.1 0 0\" rgba=\"0 0 1 1\"/>\n",
    "        </body>\n",
    "    </worldbody>\n",
    "</mujoco>\n",
    "'''"
   ]
  },
  {
   "cell_type": "code",
   "execution_count": 3,
   "id": "f798f96b-f69e-4a08-84aa-ae20b5799757",
   "metadata": {
    "tags": []
   },
   "outputs": [],
   "source": [
    "model = mujoco.MjModel.from_xml_string(xml)\n",
    "data = mujoco.MjData(model)\n",
    "renderer = mujoco.Renderer(model)"
   ]
  },
  {
   "cell_type": "code",
   "execution_count": 4,
   "id": "df03a937-74cc-4a17-9519-6042be86287b",
   "metadata": {
    "tags": []
   },
   "outputs": [
    {
     "data": {
      "text/html": [
       "<table class=\"show_images\" style=\"border-spacing:0px;\"><tr><td style=\"padding:1px;\"><img width=\"320\" height=\"240\" style=\"image-rendering:auto; object-fit:cover;\" src=\"data:image/png;base64,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\"/></td></tr></table>"
      ],
      "text/plain": [
       "<IPython.core.display.HTML object>"
      ]
     },
     "metadata": {},
     "output_type": "display_data"
    }
   ],
   "source": [
    "mujoco.mj_resetData(model,data)\n",
    "mujoco.mj_step(model,data)\n",
    "# renderer.update_scene(data)\n",
    "renderer.update_scene(data,\"world\")\n",
    "pixels = renderer.render()\n",
    "media.show_image(pixels)"
   ]
  },
  {
   "cell_type": "code",
   "execution_count": null,
   "id": "a6ca14fa-d04a-4785-893c-b71b333b60d5",
   "metadata": {},
   "outputs": [],
   "source": []
  }
 ],
 "metadata": {
  "kernelspec": {
   "display_name": "Python 3 (ipykernel)",
   "language": "python",
   "name": "python3"
  },
  "language_info": {
   "codemirror_mode": {
    "name": "ipython",
    "version": 3
   },
   "file_extension": ".py",
   "mimetype": "text/x-python",
   "name": "python",
   "nbconvert_exporter": "python",
   "pygments_lexer": "ipython3",
   "version": "3.9.18"
  }
 },
 "nbformat": 4,
 "nbformat_minor": 5
}
