{
 "cells": [
  {
   "cell_type": "code",
   "execution_count": null,
   "id": "fb217150-30e8-42bb-a286-0aa9aabb76d4",
   "metadata": {
    "tags": []
   },
   "outputs": [],
   "source": [
    "# %matplotlib qt\n",
    "%matplotlib inline"
   ]
  },
  {
   "cell_type": "code",
   "execution_count": null,
   "id": "eafa5f51-b85d-40d5-aca5-c49ce828af55",
   "metadata": {
    "tags": []
   },
   "outputs": [],
   "source": [
    "import numpy\n",
    "import math\n",
    "import sympy"
   ]
  },
  {
   "cell_type": "code",
   "execution_count": null,
   "id": "f219bb92-5168-4a73-9580-d312cc978d96",
   "metadata": {
    "tags": []
   },
   "outputs": [],
   "source": [
    "l1,l2 = sympy.symbols('l1,l2')"
   ]
  },
  {
   "cell_type": "code",
   "execution_count": null,
   "id": "204e16db-044a-4ed3-a862-4f111da55186",
   "metadata": {
    "tags": []
   },
   "outputs": [],
   "source": [
    "l1"
   ]
  },
  {
   "cell_type": "code",
   "execution_count": null,
   "id": "5ee080c7-76bb-4ba9-acd1-8591ef19e16f",
   "metadata": {
    "tags": []
   },
   "outputs": [],
   "source": [
    "t1,t2 = sympy.symbols('t1,t2')\n",
    "t1"
   ]
  },
  {
   "cell_type": "code",
   "execution_count": null,
   "id": "0715b502-5632-4219-9761-48f39bbd811a",
   "metadata": {
    "tags": []
   },
   "outputs": [],
   "source": [
    "t1n = 30*math.pi/180\n",
    "t2n = 30*math.pi/180\n",
    "l1n = 1\n",
    "l2n = 1"
   ]
  },
  {
   "cell_type": "code",
   "execution_count": null,
   "id": "bae62430-3ffc-487b-92af-da47fe54f0d8",
   "metadata": {
    "tags": []
   },
   "outputs": [],
   "source": [
    "def Rz(theta):\n",
    "    c = math.cos(theta)\n",
    "    s = math.sin(theta)\n",
    "    R = numpy.array([[c,-s,0],\n",
    "                  [s,c,0],\n",
    "                  [0,0,1]])\n",
    "    return R"
   ]
  },
  {
   "cell_type": "code",
   "execution_count": null,
   "id": "3986caa0-3286-451a-ae62-13c9db3cf438",
   "metadata": {
    "tags": []
   },
   "outputs": [],
   "source": [
    "Rab = Rz(t1n)\n",
    "Rbc = Rz(t2n)"
   ]
  },
  {
   "cell_type": "code",
   "execution_count": null,
   "id": "b9d07fdb-e9b9-4bb4-a6e5-a97ee04d7c27",
   "metadata": {
    "tags": []
   },
   "outputs": [],
   "source": [
    "bx_in_b = numpy.array([[1,0,0]]).T\n",
    "bx_in_a = Rab.dot(bx_in_b)\n",
    "bx_in_a"
   ]
  },
  {
   "cell_type": "code",
   "execution_count": null,
   "id": "845f02e0-4f1a-4f67-89f3-fab8d9ec87f8",
   "metadata": {
    "tags": []
   },
   "outputs": [],
   "source": [
    "cx_in_c = numpy.array([[1,0,0]]).T\n",
    "cx_in_b = Rbc.dot(cx_in_c)\n",
    "cx_in_a = Rab.dot(cx_in_b)\n",
    "cx_in_a"
   ]
  },
  {
   "cell_type": "code",
   "execution_count": null,
   "id": "91a6fbbc-04b1-4f52-9814-e0f4f7a54d60",
   "metadata": {
    "tags": []
   },
   "outputs": [],
   "source": [
    "r = l1n*bx_in_a+l2n*cx_in_a\n",
    "r"
   ]
  },
  {
   "cell_type": "code",
   "execution_count": null,
   "id": "ef379f6d-145c-4539-ad3a-72cd53d4c5ef",
   "metadata": {
    "tags": []
   },
   "outputs": [],
   "source": [
    "p0=numpy.array([[0,0,0]]).T\n",
    "p1=l1n*bx_in_a\n",
    "p = numpy.hstack([p0,p1,r])"
   ]
  },
  {
   "cell_type": "code",
   "execution_count": null,
   "id": "d7fe876a-2f34-4d0a-b222-685373b852bb",
   "metadata": {
    "tags": []
   },
   "outputs": [],
   "source": [
    "# import matplotlib.pyplot as plt\n",
    "# plt.plot(p[0,:],p[1,:])\n",
    "# plt.axis('equal')"
   ]
  },
  {
   "cell_type": "code",
   "execution_count": null,
   "id": "e310807a-4844-469d-af2a-e4b13250d0ac",
   "metadata": {
    "tags": []
   },
   "outputs": [],
   "source": [
    "J = numpy.array([\n",
    "    [-l1*sympy.sin(t1)-l2*sympy.sin(t1+t2), -l2*sympy.sin(t1+t2)],\n",
    "    [l1*sympy.cos(t1)+l2*sympy.cos(t1+t2), l2*sympy.cos(t1+t2)],\n",
    "    [0,0]])"
   ]
  },
  {
   "cell_type": "code",
   "execution_count": null,
   "id": "0c26fbeb-d27c-4121-aa24-5fe50ddebb43",
   "metadata": {
    "tags": []
   },
   "outputs": [],
   "source": [
    "J = sympy.Matrix(J)"
   ]
  },
  {
   "cell_type": "code",
   "execution_count": null,
   "id": "4c9893c0-f363-4333-9ac0-b2d4716b22e6",
   "metadata": {
    "tags": []
   },
   "outputs": [],
   "source": [
    "Jn = numpy.array(J.subs({t1:t1n,t2:t2n,l1:l1n,l2:l2n}))\n",
    "Jn"
   ]
  },
  {
   "cell_type": "code",
   "execution_count": null,
   "id": "f8d5ee11-0d23-42e1-8751-b7d09c7db19e",
   "metadata": {
    "tags": []
   },
   "outputs": [],
   "source": [
    "\n",
    "t_d = numpy.array([[0,1]]).T\n",
    "t_d"
   ]
  },
  {
   "cell_type": "code",
   "execution_count": null,
   "id": "0b49b2ba-a842-4a98-abae-92ecdba302ab",
   "metadata": {
    "tags": []
   },
   "outputs": [],
   "source": [
    "v = Jn.dot(t_d)\n",
    "v"
   ]
  },
  {
   "cell_type": "code",
   "execution_count": null,
   "id": "e08b7723-34bc-4445-9026-0d7f1903f9f9",
   "metadata": {
    "tags": []
   },
   "outputs": [],
   "source": [
    "dt1 = 1*math.pi/180\n",
    "dt2 = 1*math.pi/180\n",
    "\n",
    "t1n_1 = t1n-dt1\n",
    "t1n_2 = t1n+dt1\n",
    "\n",
    "t2n_1 = t2n-dt2\n",
    "t2n_2 = t2n+dt2\n",
    "\n",
    "r_dt1_1 = l1n*Rz(t1n_1).dot(bx_in_b+l2n*Rz(t2n).dot(cx_in_c))\n",
    "r_dt1_2 = l1n*Rz(t1n_2).dot(bx_in_b+l2n*Rz(t2n).dot(cx_in_c))\n",
    "\n",
    "r_dt2_1 = l1n*Rz(t1n).dot(bx_in_b+l2n*Rz(t2n_1).dot(cx_in_c))\n",
    "r_dt2_2 = l1n*Rz(t1n).dot(bx_in_b+l2n*Rz(t2n_2).dot(cx_in_c))\n",
    "\n",
    "dr_dt1 = r_dt1_2 - r_dt1_1\n",
    "dr_dt2 = r_dt2_2 - r_dt2_1"
   ]
  },
  {
   "cell_type": "code",
   "execution_count": null,
   "id": "6898b0db-ce91-4747-85a2-583886b78129",
   "metadata": {
    "tags": []
   },
   "outputs": [],
   "source": [
    "dr_dt1"
   ]
  },
  {
   "cell_type": "code",
   "execution_count": null,
   "id": "3189c428-236e-4cc4-8122-78b2a74fc666",
   "metadata": {
    "tags": []
   },
   "outputs": [],
   "source": [
    "dr_dt2"
   ]
  },
  {
   "cell_type": "code",
   "execution_count": null,
   "id": "fa717083-5c70-4c55-b8e9-b992654cb78e",
   "metadata": {
    "tags": []
   },
   "outputs": [],
   "source": [
    "Jn2 = numpy.hstack([dr_dt1/2/dt1,dr_dt2/2/dt2])"
   ]
  },
  {
   "cell_type": "code",
   "execution_count": null,
   "id": "8e8de36a-8b0b-40d9-957f-2e5708a1ca33",
   "metadata": {
    "tags": []
   },
   "outputs": [],
   "source": [
    "Jn2"
   ]
  },
  {
   "cell_type": "code",
   "execution_count": null,
   "id": "b2683a30-2262-4f4f-ac55-996097b22ae9",
   "metadata": {},
   "outputs": [],
   "source": [
    "v2 = Jn2.dot(t_d)"
   ]
  },
  {
   "cell_type": "code",
   "execution_count": null,
   "id": "733adc08-0139-4be1-9951-2591a71a4f3e",
   "metadata": {
    "tags": []
   },
   "outputs": [],
   "source": [
    "import matplotlib.pyplot as plt\n",
    "\n",
    "s1 = .2\n",
    "s2 = .1\n",
    "\n",
    "p = numpy.hstack([p0,p1,r])\n",
    "plt.plot(p[0,:],p[1,:])\n",
    "uv = numpy.hstack([r,r+v*s1])\n",
    "plt.plot(uv[0,:],uv[1,:],'r-')\n",
    "uv = numpy.hstack([r,r+v2*s2])\n",
    "plt.plot(uv[0,:],uv[1,:],'g-')\n",
    "plt.axis('equal')\n",
    "plt.show()"
   ]
  },
  {
   "cell_type": "code",
   "execution_count": null,
   "id": "ebc86592-8548-4396-a1de-73f307789de8",
   "metadata": {},
   "outputs": [],
   "source": []
  }
 ],
 "metadata": {
  "kernelspec": {
   "display_name": "Python 3 (ipykernel)",
   "language": "python",
   "name": "python3"
  },
  "language_info": {
   "codemirror_mode": {
    "name": "ipython",
    "version": 3
   },
   "file_extension": ".py",
   "mimetype": "text/x-python",
   "name": "python",
   "nbconvert_exporter": "python",
   "pygments_lexer": "ipython3",
   "version": "3.10.12"
  }
 },
 "nbformat": 4,
 "nbformat_minor": 5
}
