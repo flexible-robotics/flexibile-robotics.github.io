{
 "cells": [
  {
   "cell_type": "code",
   "execution_count": null,
   "metadata": {},
   "outputs": [],
   "source": [
    "### Sympy Quickstart\n"
   ]
  },
  {
   "cell_type": "code",
   "execution_count": null,
   "metadata": {},
   "outputs": [],
   "source": [
    "\n",
    "import sympy\n",
    "a=sympy.Symbol('a')\n",
    "b=sympy.Symbol('b')\n",
    "c = a+b"
   ]
  },
  {
   "cell_type": "code",
   "execution_count": null,
   "metadata": {},
   "outputs": [],
   "source": [
    "### Common functions in Sympy\n"
   ]
  },
  {
   "cell_type": "code",
   "execution_count": null,
   "metadata": {},
   "outputs": [],
   "source": [
    "\n",
    "* ```sympy.Symbol()```\n",
    "* ```sympy.solve()```\n",
    "* ```sympy.Matrix()```\n"
   ]
  },
  {
   "cell_type": "code",
   "execution_count": null,
   "metadata": {},
   "outputs": [],
   "source": [
    "\n",
    "### Applied to expressions\n",
    "Simplification for more information see here: <https://docs.sympy.org/latest/tutorial/simplification.html>\n"
   ]
  },
  {
   "cell_type": "code",
   "execution_count": null,
   "metadata": {},
   "outputs": [],
   "source": [
    "\n",
    "* ```.atoms()```\n",
    "* ```.simplify()```\n",
    "    * ```.expand()```, ```.factor()```, and ```.collect()```\n",
    "* ```.diff()```\n",
    "* ```.subs()```\n",
    "* ```.evalf()```\n"
   ]
  },
  {
   "cell_type": "code",
   "execution_count": null,
   "metadata": {},
   "outputs": [],
   "source": [
    "\n",
    "### Why Do We Want Symbolic Variables?\n",
    "\n",
    "* So we can directly differentiate and solve  constraints to get kinematics and jacobian.\n",
    "\n",
    "### Be careful\n",
    "\n",
    "* Functions like sin, cos, theta have \"symbolic\" versions.  Can't use regular math functions on symbols\n",
    "\n",
    "### Example\n",
    "\n"
   ]
  },
  {
   "cell_type": "code",
   "execution_count": null,
   "metadata": {},
   "outputs": [],
   "source": []
  }
 ],
 "metadata": {
  "language_info": {
   "name": "python"
  }
 },
 "nbformat": 4,
 "nbformat_minor": 2
}
