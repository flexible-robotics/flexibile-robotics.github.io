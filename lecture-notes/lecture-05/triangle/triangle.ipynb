{
 "cells": [
  {
   "cell_type": "code",
   "execution_count": null,
   "id": "8859dbfa-7b43-45f7-8fe5-ca726b31d209",
   "metadata": {
    "tags": []
   },
   "outputs": [],
   "source": [
    "import matplotlib.pyplot as plt\n",
    "import scipy.optimize as so\n",
    "import numpy"
   ]
  },
  {
   "cell_type": "code",
   "execution_count": null,
   "id": "fb731eae-360a-463c-99cf-44f132ccd93a",
   "metadata": {
    "tags": []
   },
   "outputs": [],
   "source": [
    "desired_length1=2**.5\n",
    "desired_length2=1\n",
    "desired_length3=1"
   ]
  },
  {
   "cell_type": "code",
   "execution_count": null,
   "id": "bcc7dafc-2450-4e23-8587-b922100a7f7a",
   "metadata": {
    "tags": []
   },
   "outputs": [],
   "source": [
    "def objective_function(x):\n",
    "\n",
    "    x1,y1,x2,y2,x3,y3 = x\n",
    "    \n",
    "    p1 = numpy.array([x1,y1])\n",
    "    p2 = numpy.array([x2,y2])\n",
    "    p3 = numpy.array([x3,y3])\n",
    "\n",
    "    v1 = p2-p1\n",
    "    v2 = p3-p2\n",
    "    v3 = p1-p3\n",
    "\n",
    "    l1 = (v1.dot(v1))**.5\n",
    "    l2 = (v2.dot(v2))**.5\n",
    "    l3 = (v3.dot(v3))**.5\n",
    "    \n",
    "    \n",
    "    error = []\n",
    "    error.append(l1-desired_length1)\n",
    "    error.append(l2-desired_length2)\n",
    "    error.append(l3-desired_length3)\n",
    "    error.append(x1-0)\n",
    "    error.append(y1-0)\n",
    "    error.append(y3-0)\n",
    "    \n",
    "    error = numpy.array(error)\n",
    "    sum_of_squares = ((error**2).sum())**.5\n",
    "    return sum_of_squares    "
   ]
  },
  {
   "cell_type": "code",
   "execution_count": null,
   "id": "5c6f6aed-b4f9-470f-8196-d01625761933",
   "metadata": {
    "tags": []
   },
   "outputs": [],
   "source": [
    "objective_function([0,0,1,1,1,0])"
   ]
  },
  {
   "cell_type": "code",
   "execution_count": null,
   "id": "9a5f4716-1c9d-4e86-b6e1-f4d0874207eb",
   "metadata": {
    "tags": []
   },
   "outputs": [],
   "source": [
    "x_0=[0,0,2,1,1,0]\n",
    "result=so.minimize(objective_function,x_0,method=\"powell\")\n",
    "result"
   ]
  },
  {
   "cell_type": "code",
   "execution_count": null,
   "id": "1695e558-1620-4f4b-91d3-071e3b8c23b9",
   "metadata": {
    "tags": []
   },
   "outputs": [],
   "source": [
    "result.x"
   ]
  },
  {
   "cell_type": "code",
   "execution_count": null,
   "id": "7f15a969-cefa-4d01-a196-94734df4d311",
   "metadata": {
    "tags": []
   },
   "outputs": [],
   "source": [
    "def plot_x(x):\n",
    "    x1,y1,x2,y2,x3,y3 = x\n",
    "    p1 = numpy.array([[x1,y1]]).T\n",
    "    p2 = numpy.array([[x2,y2]]).T\n",
    "    p3 = numpy.array([[x3,y3]]).T\n",
    "    \n",
    "    p = numpy.hstack([p1,p2,p3])\n",
    "    plt.plot(p[0,(0,1,2,0)],p[1,(0,1,2,0)])\n",
    "    for ii,item in enumerate(p.T):\n",
    "        plt.text(item[0],item[1],'p'+str(ii+1))\n",
    "    plt.axis('equal')\n",
    "    plt.show()"
   ]
  },
  {
   "cell_type": "code",
   "execution_count": null,
   "id": "6434df46-ab4f-40bc-a2fc-e9e614300bfd",
   "metadata": {
    "tags": []
   },
   "outputs": [],
   "source": [
    "plot_x(result.x)"
   ]
  }
 ],
 "metadata": {
  "kernelspec": {
   "display_name": "Python 3 (ipykernel)",
   "language": "python",
   "name": "python3"
  },
  "language_info": {
   "codemirror_mode": {
    "name": "ipython",
    "version": 3
   },
   "file_extension": ".py",
   "mimetype": "text/x-python",
   "name": "python",
   "nbconvert_exporter": "python",
   "pygments_lexer": "ipython3",
   "version": "3.10.12"
  }
 },
 "nbformat": 4,
 "nbformat_minor": 5
}
