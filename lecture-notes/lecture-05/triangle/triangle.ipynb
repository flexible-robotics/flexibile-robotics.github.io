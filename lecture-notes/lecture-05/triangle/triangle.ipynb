{
 "cells": [
  {
   "cell_type": "code",
   "execution_count": 1,
   "id": "8859dbfa-7b43-45f7-8fe5-ca726b31d209",
   "metadata": {
    "tags": []
   },
   "outputs": [],
   "source": [
    "import matplotlib.pyplot as plt\n",
    "import scipy.optimize as so\n",
    "import numpy"
   ]
  },
  {
   "cell_type": "code",
   "execution_count": 2,
   "id": "fb731eae-360a-463c-99cf-44f132ccd93a",
   "metadata": {
    "tags": []
   },
   "outputs": [],
   "source": [
    "desired_length1=2**2\n",
    "desired_length2=1\n",
    "desired_length3=1"
   ]
  },
  {
   "cell_type": "code",
   "execution_count": 3,
   "id": "bcc7dafc-2450-4e23-8587-b922100a7f7a",
   "metadata": {
    "tags": []
   },
   "outputs": [],
   "source": [
    "def objective_function(x):\n",
    "\n",
    "    x1,y1,x2,y2,x3,y3 = x\n",
    "    \n",
    "    p1 = numpy.array([x1,y1])\n",
    "    p2 = numpy.array([x2,y2])\n",
    "    p3 = numpy.array([x3,y3])\n",
    "\n",
    "    v1 = p2-p1\n",
    "    v2 = p3-p2\n",
    "    v3 = p1-p3\n",
    "\n",
    "    l1 = (v1.dot(v1))**.5\n",
    "    l2 = (v2.dot(v2))**.5\n",
    "    l3 = (v3.dot(v3))**.5\n",
    "    \n",
    "    \n",
    "    error = []\n",
    "    error.append(l1-desired_length1)\n",
    "    error.append(l2-desired_length2)\n",
    "    error.append(l3-desired_length3)\n",
    "    error.append(x1-0)\n",
    "    error.append(y1-0)\n",
    "    error.append(y3-0)\n",
    "    \n",
    "    error = numpy.array(error)\n",
    "    sum_of_squares = ((error**2).sum())**.5\n",
    "    return sum_of_squares    "
   ]
  },
  {
   "cell_type": "code",
   "execution_count": 4,
   "id": "5c6f6aed-b4f9-470f-8196-d01625761933",
   "metadata": {
    "tags": []
   },
   "outputs": [
    {
     "data": {
      "text/plain": [
       "1.8497494087723911"
      ]
     },
     "execution_count": 4,
     "metadata": {},
     "output_type": "execute_result"
    }
   ],
   "source": [
    "objective_function([0,0,1,1,1,0])"
   ]
  },
  {
   "cell_type": "code",
   "execution_count": 5,
   "id": "9a5f4716-1c9d-4e86-b6e1-f4d0874207eb",
   "metadata": {
    "tags": []
   },
   "outputs": [
    {
     "data": {
      "text/plain": [
       " message: Optimization terminated successfully.\n",
       " success: True\n",
       "  status: 0\n",
       "     fun: 8.849510353958373e-12\n",
       "       x: [-1.959e-13 -3.077e-12  6.500e-01 -7.599e-01  2.500e+00\n",
       "           -3.347e-12]\n",
       "     nit: 22\n",
       "   direc: [[ 5.269e-03  7.455e-03 ...  6.890e-03 -1.297e-03]\n",
       "           [ 0.000e+00  1.000e+00 ...  0.000e+00  0.000e+00]\n",
       "           ...\n",
       "           [ 0.000e+00  0.000e+00 ...  1.000e+00  0.000e+00]\n",
       "           [ 1.900e-06 -8.537e-07 ...  1.083e-06 -1.051e-07]]\n",
       "    nfev: 2634"
      ]
     },
     "execution_count": 5,
     "metadata": {},
     "output_type": "execute_result"
    }
   ],
   "source": [
    "x_0=[0,0,2,1,1,0]\n",
    "result=so.minimize(objective_function,x_0,method=\"powell\")\n",
    "result"
   ]
  },
  {
   "cell_type": "code",
   "execution_count": 6,
   "id": "1695e558-1620-4f4b-91d3-071e3b8c23b9",
   "metadata": {
    "tags": []
   },
   "outputs": [
    {
     "data": {
      "text/plain": [
       "array([-1.95913206e-13, -3.07678641e-12,  6.50000000e-01, -7.59934208e-01,\n",
       "        2.50000000e+00, -3.34698529e-12])"
      ]
     },
     "execution_count": 6,
     "metadata": {},
     "output_type": "execute_result"
    }
   ],
   "source": [
    "result.x"
   ]
  },
  {
   "cell_type": "code",
   "execution_count": 7,
   "id": "7f15a969-cefa-4d01-a196-94734df4d311",
   "metadata": {
    "tags": []
   },
   "outputs": [],
   "source": [
    "def plot_x(x):\n",
    "    x1,y1,x2,y2,x3,y3 = x\n",
    "    p1 = numpy.array([[x1,y1]]).T\n",
    "    p2 = numpy.array([[x2,y2]]).T\n",
    "    p3 = numpy.array([[x3,y3]]).T\n",
    "    \n",
    "    p = numpy.hstack([p1,p2,p3])\n",
    "    plt.plot(p[0,(0,1,2,0)],p[1,(0,1,2,0)])\n",
    "    for ii,item in enumerate(p.T):\n",
    "        plt.text(item[0],item[1],'p'+str(ii+1))\n",
    "    plt.axis('equal')\n",
    "    plt.show()"
   ]
  },
  {
   "cell_type": "code",
   "execution_count": 8,
   "id": "6434df46-ab4f-40bc-a2fc-e9e614300bfd",
   "metadata": {
    "tags": []
   },
   "outputs": [
    {
     "data": {
      "image/png": "[encoded data removed]",
      "text/plain": [
       "<Figure size 640x480 with 1 Axes>"
      ]
     },
     "metadata": {},
     "output_type": "display_data"
    }
   ],
   "source": [
    "plot_x(result.x)"
   ]
  }
 ],
 "metadata": {
  "kernelspec": {
   "display_name": "Python 3 (ipykernel)",
   "language": "python",
   "name": "python3"
  },
  "language_info": {
   "codemirror_mode": {
    "name": "ipython",
    "version": 3
   },
   "file_extension": ".py",
   "mimetype": "text/x-python",
   "name": "python",
   "nbconvert_exporter": "python",
   "pygments_lexer": "ipython3",
   "version": "3.10.12"
  }
 },
 "nbformat": 4,
 "nbformat_minor": 5
}
