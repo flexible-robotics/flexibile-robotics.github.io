{
 "cells": [
  {
   "cell_type": "code",
   "execution_count": 1,
   "id": "8859dbfa-7b43-45f7-8fe5-ca726b31d209",
   "metadata": {
    "tags": []
   },
   "outputs": [],
   "source": [
    "import matplotlib.pyplot as plt\n",
    "import scipy.optimize as so\n",
    "import numpy\n",
    "import math"
   ]
  },
  {
   "cell_type": "code",
   "execution_count": 2,
   "id": "fb731eae-360a-463c-99cf-44f132ccd93a",
   "metadata": {
    "tags": []
   },
   "outputs": [],
   "source": [
    "desired_length1=2**.5\n",
    "desired_length2=1\n",
    "desired_length3=1\n",
    "desired_length4 = 1.2"
   ]
  },
  {
   "cell_type": "code",
   "execution_count": 3,
   "id": "703e3d28-8676-4ec0-ae72-7c557a64c184",
   "metadata": {},
   "outputs": [
    {
     "data": {
      "text/plain": [
       "array([[ 0.8660254, -0.5      ,  0.       ],\n",
       "       [ 0.5      ,  0.8660254,  0.       ],\n",
       "       [ 0.       ,  0.       ,  1.       ]])"
      ]
     },
     "execution_count": 3,
     "metadata": {},
     "output_type": "execute_result"
    }
   ],
   "source": [
    "def Rz(theta):\n",
    "    ct = math.cos(theta)\n",
    "    st = math.sin(theta)\n",
    "    Rz = numpy.array([[ct,-st,0 ],[st,ct,0],[0,0,1]])\n",
    "    return Rz\n",
    "\n",
    "Rz(math.pi*30/180)"
   ]
  },
  {
   "cell_type": "code",
   "execution_count": 4,
   "id": "bcc7dafc-2450-4e23-8587-b922100a7f7a",
   "metadata": {
    "tags": []
   },
   "outputs": [],
   "source": [
    "def objective_function(x):\n",
    "\n",
    "    alpha1,alpha2,alpha3,alpha4 = x\n",
    "    \n",
    "    # p1 = numpy.array([x1,y1])\n",
    "    # p2 = numpy.array([x2,y2])\n",
    "    \n",
    "    Rab = Rz(alpha1)\n",
    "    Rbc = Rz(alpha2)\n",
    "    Rcd = Rz(alpha3)\n",
    "    Rda = Rz(alpha4)\n",
    "    p3 = desired_length2*Rab*numpy.array([[1,0,0]]).T+l1*numpy.array([[1,0,0]]).T\n",
    "    p4 = desired_length3*Rab*Rbc*numpy.array([[1,0,0]]).T+p3\n",
    "    p1p = desired_length4*Rab*Rbc*Rcd*numpy.array([[1,0,0]]).T+p4\n",
    "    p2p = desired_length1*Rab*Rbc*Rcd*Rda*numpy.array([[1,0,0]]).T+p1p\n",
    "\n",
    "    v1 = p1p-p1\n",
    "    v2 = p2p-p2\n",
    "    \n",
    "    error = []\n",
    "    error.append(alpha1- math.pi*30/180)\n",
    "    error.append(v1.dot() )\n",
    "    error.append(v1.dot() )\n",
    "    error.append(v2.dot() )\n",
    "    \n",
    "    \n",
    "    \n",
    "    error = numpy.array(error)\n",
    "    sum_of_squares = ((error**2).sum())**.5\n",
    "    return sum_of_squares    "
   ]
  },
  {
   "cell_type": "code",
   "execution_count": 5,
   "id": "5c6f6aed-b4f9-470f-8196-d01625761933",
   "metadata": {
    "tags": []
   },
   "outputs": [
    {
     "data": {
      "text/plain": [
       "0.5292558877384543"
      ]
     },
     "execution_count": 5,
     "metadata": {},
     "output_type": "execute_result"
    }
   ],
   "source": [
    "objective_function([0,0,1,1,2,1,1,0])"
   ]
  },
  {
   "cell_type": "code",
   "execution_count": 6,
   "id": "9a5f4716-1c9d-4e86-b6e1-f4d0874207eb",
   "metadata": {
    "tags": []
   },
   "outputs": [
    {
     "data": {
      "text/plain": [
       " message: Optimization terminated successfully.\n",
       " success: True\n",
       "  status: 0\n",
       "     fun: 3.0840870448545856e-12\n",
       "       x: [-1.202e-12  6.677e-13  1.225e+00  7.071e-01  2.147e+00\n",
       "            3.208e-01  1.200e+00 -1.528e-12]\n",
       "     nit: 29\n",
       "   direc: [[ 2.063e-06  2.112e-06 ... -2.722e-06 -1.339e-06]\n",
       "           [ 8.294e-05 -2.678e-04 ... -1.058e-04 -4.831e-05]\n",
       "           ...\n",
       "           [ 0.000e+00  0.000e+00 ...  1.000e+00  0.000e+00]\n",
       "           [-4.089e-13  2.209e-13 ... -5.094e-13 -2.155e-14]]\n",
       "    nfev: 5007"
      ]
     },
     "execution_count": 6,
     "metadata": {},
     "output_type": "execute_result"
    }
   ],
   "source": [
    "x_0=[0,0,1,1,2,1,1,0]\n",
    "result=so.minimize(objective_function,x_0,method=\"powell\")\n",
    "result"
   ]
  },
  {
   "cell_type": "code",
   "execution_count": 7,
   "id": "1695e558-1620-4f4b-91d3-071e3b8c23b9",
   "metadata": {
    "tags": []
   },
   "outputs": [
    {
     "data": {
      "text/plain": [
       "array([-1.20227222e-12,  6.67651412e-13,  1.22474487e+00,  7.07106781e-01,\n",
       "        2.14713277e+00,  3.20841890e-01,  1.20000000e+00, -1.52750865e-12])"
      ]
     },
     "execution_count": 7,
     "metadata": {},
     "output_type": "execute_result"
    }
   ],
   "source": [
    "result.x"
   ]
  },
  {
   "cell_type": "code",
   "execution_count": 8,
   "id": "7f15a969-cefa-4d01-a196-94734df4d311",
   "metadata": {
    "tags": []
   },
   "outputs": [],
   "source": [
    "def plot_x(x):\n",
    "    x1,y1,x2,y2,x3,y3,x4,y4 = x\n",
    "    p1 = numpy.array([[x1,y1]]).T\n",
    "    p2 = numpy.array([[x2,y2]]).T\n",
    "    p3 = numpy.array([[x3,y3]]).T\n",
    "    p4 = numpy.array([[x4,y4]]).T\n",
    "    \n",
    "    p = numpy.hstack([p1,p2,p3,p4])\n",
    "    plt.plot(p[0,(0,1,2,3,0)],p[1,(0,1,2,3,0)])\n",
    "    for ii,item in enumerate(p.T):\n",
    "        plt.text(item[0],item[1],'p'+str(ii+1))\n",
    "    plt.axis('equal')\n",
    "    plt.show()"
   ]
  },
  {
   "cell_type": "code",
   "execution_count": 9,
   "id": "6434df46-ab4f-40bc-a2fc-e9e614300bfd",
   "metadata": {
    "tags": []
   },
   "outputs": [
    {
     "data": {
      "image/png": "[encoded data removed]",
      "text/plain": [
       "<Figure size 640x480 with 1 Axes>"
      ]
     },
     "metadata": {},
     "output_type": "display_data"
    }
   ],
   "source": [
    "plot_x(result.x)"
   ]
  },
  {
   "cell_type": "code",
   "execution_count": null,
   "id": "47f7fd17-44cc-4abf-9fc5-7a00598d6ceb",
   "metadata": {},
   "outputs": [],
   "source": []
  }
 ],
 "metadata": {
  "kernelspec": {
   "display_name": "Python 3 (ipykernel)",
   "language": "python",
   "name": "python3"
  },
  "language_info": {
   "codemirror_mode": {
    "name": "ipython",
    "version": 3
   },
   "file_extension": ".py",
   "mimetype": "text/x-python",
   "name": "python",
   "nbconvert_exporter": "python",
   "pygments_lexer": "ipython3",
   "version": "3.10.12"
  }
 },
 "nbformat": 4,
 "nbformat_minor": 5
}
