{
 "cells": [
  {
   "cell_type": "code",
   "execution_count": 1,
   "id": "d779f21a-32c7-4e8f-88e5-ca712a18f7a8",
   "metadata": {
    "tags": []
   },
   "outputs": [],
   "source": [
    "import numpy\n",
    "import math\n",
    "import sympy"
   ]
  },
  {
   "cell_type": "code",
   "execution_count": 17,
   "id": "22df5e65-9afb-4b41-b208-6d0db5d76cdd",
   "metadata": {
    "tags": []
   },
   "outputs": [],
   "source": [
    "class Quaternion(object):\n",
    "    \n",
    "    def __init__(self,a,b,c,d):\n",
    "        self.a = a\n",
    "        self.b = b\n",
    "        self.c = c\n",
    "        self.d = d\n",
    "\n",
    "    def __mul__(self,other):\n",
    "        a = self.a\n",
    "        b = self.b\n",
    "        c = self.c\n",
    "        d = self.d\n",
    "        e = other.a\n",
    "        f = other.b\n",
    "        g = other.c\n",
    "        h = other.d        \n",
    "        a2 = a*e - b*f - c*g - d*h\n",
    "        b2 = a*f + b*e #...finish this expression\n",
    "        c2 = a*g #+ ...finish this expression\n",
    "        d2 = a*h #+ ...finish this expression\n",
    "        quat = Quaternion(a2,b2,c2,d2)\n",
    "        return quat\n",
    "    \n",
    "    def __str__(self):\n",
    "        s = \"{0},{1},{2},{3}\".format(self.a,self.b,self.c,self.d)\n",
    "        return s\n",
    "    \n",
    "    def __repr__(self):\n",
    "        return str(self)\n",
    "    \n",
    "    def conjugate(self):\n",
    "        return Quaternion(self.a,-self.b,-self.c,-self.d)\n",
    "    \n",
    "    def normalize(self):\n",
    "        l_2 = self.a**2+self.b**2+self.c**2+self.d**2 \n",
    "        l = l_2**.5\n",
    "        a = self.a/l\n",
    "        b = self.b/l\n",
    "        c = self.c/l\n",
    "        d = self.d/l\n",
    "        new = Quaternion(a,b,c,d)\n",
    "        return new\n",
    "    \n",
    "    @classmethod\n",
    "    def unit_from_vec_angle(cls,vec,angle):\n",
    "        a = math.cos(angle/2)\n",
    "        s = math.sin(angle/2)\n",
    "        b = s*vec[0]\n",
    "        c = s*vec[1]\n",
    "        d = s*vec[2]\n",
    "        \n",
    "        new = cls(a,b,c,d)\n",
    "        new = new.normalize()\n",
    "        return new"
   ]
  },
  {
   "cell_type": "code",
   "execution_count": 18,
   "id": "f4cece68-1a8c-49df-bdfe-aedc612cd9d7",
   "metadata": {
    "tags": []
   },
   "outputs": [
    {
     "data": {
      "text/plain": [
       "1,2,3,4"
      ]
     },
     "execution_count": 18,
     "metadata": {},
     "output_type": "execute_result"
    }
   ],
   "source": [
    "q1 = Quaternion(1,2,3,4)\n",
    "\n",
    "q1"
   ]
  },
  {
   "cell_type": "code",
   "execution_count": 19,
   "id": "77d992a4-f92d-49de-82ce-ceba4d5e5b21",
   "metadata": {
    "tags": []
   },
   "outputs": [
    {
     "data": {
      "text/plain": [
       "2"
      ]
     },
     "execution_count": 19,
     "metadata": {},
     "output_type": "execute_result"
    }
   ],
   "source": [
    "q1.b"
   ]
  },
  {
   "cell_type": "code",
   "execution_count": 20,
   "id": "e7e7af38-8730-40eb-a32d-fc6e38c0ac1a",
   "metadata": {
    "tags": []
   },
   "outputs": [],
   "source": [
    "q2 = Quaternion(4,3,2,1)\n"
   ]
  },
  {
   "cell_type": "code",
   "execution_count": 21,
   "id": "fb49fe8c-b96b-4dbb-9662-bd597a207a44",
   "metadata": {
    "tags": []
   },
   "outputs": [
    {
     "data": {
      "text/plain": [
       "-12,11,2,1"
      ]
     },
     "execution_count": 21,
     "metadata": {},
     "output_type": "execute_result"
    }
   ],
   "source": [
    "q1*q2"
   ]
  },
  {
   "cell_type": "code",
   "execution_count": 22,
   "id": "23f95a00-5b18-4a59-8e11-e40008709d0e",
   "metadata": {
    "tags": []
   },
   "outputs": [
    {
     "data": {
      "text/plain": [
       "1,-2,-3,-4"
      ]
     },
     "execution_count": 22,
     "metadata": {},
     "output_type": "execute_result"
    }
   ],
   "source": [
    "q1.conjugate()"
   ]
  },
  {
   "cell_type": "code",
   "execution_count": 23,
   "id": "bdfb9741-5c8d-408b-ab51-50442ee9feea",
   "metadata": {
    "tags": []
   },
   "outputs": [
    {
     "data": {
      "text/plain": [
       "0.0,0.9330127018922194,0.0,-0.0"
      ]
     },
     "execution_count": 23,
     "metadata": {},
     "output_type": "execute_result"
    }
   ],
   "source": [
    "p = Quaternion(0,1,0,0)\n",
    "theta = math.pi/6\n",
    "s = math.sin(theta/2)\n",
    "c = math.cos(theta/2)\n",
    "r = Quaternion(c,0,0,s)\n",
    "p2 = r*p*r.conjugate()\n",
    "p2"
   ]
  },
  {
   "cell_type": "code",
   "execution_count": 24,
   "id": "557846e1-bd34-4145-a7a3-69c97d3fa404",
   "metadata": {
    "tags": []
   },
   "outputs": [
    {
     "data": {
      "text/plain": [
       "0.9330127018922194"
      ]
     },
     "execution_count": 24,
     "metadata": {},
     "output_type": "execute_result"
    }
   ],
   "source": [
    "p2.b"
   ]
  },
  {
   "cell_type": "code",
   "execution_count": 25,
   "id": "9b7c88e6",
   "metadata": {},
   "outputs": [
    {
     "data": {
      "text/plain": [
       "0,cos(theta/2)**2,0,0"
      ]
     },
     "execution_count": 25,
     "metadata": {},
     "output_type": "execute_result"
    }
   ],
   "source": [
    "p = Quaternion(0,1,0,0)\n",
    "theta = sympy.Symbol('theta')\n",
    "s = sympy.sin(theta/2)\n",
    "c = sympy.cos(theta/2)\n",
    "r = Quaternion(c,0,0,s)\n",
    "p2 = r*p*r.conjugate()\n",
    "p2"
   ]
  },
  {
   "cell_type": "code",
   "execution_count": 26,
   "id": "cce832c7",
   "metadata": {},
   "outputs": [
    {
     "data": {
      "text/latex": [
       "$\\displaystyle \\cos^{2}{\\left(\\frac{\\theta}{2} \\right)}$"
      ],
      "text/plain": [
       "cos(theta/2)**2"
      ]
     },
     "execution_count": 26,
     "metadata": {},
     "output_type": "execute_result"
    }
   ],
   "source": [
    "p2.b"
   ]
  },
  {
   "cell_type": "code",
   "execution_count": 27,
   "id": "6dbf4e52",
   "metadata": {
    "tags": []
   },
   "outputs": [
    {
     "data": {
      "text/latex": [
       "$\\displaystyle \\cos^{2}{\\left(\\frac{\\theta}{2} \\right)}$"
      ],
      "text/plain": [
       "cos(theta/2)**2"
      ]
     },
     "execution_count": 27,
     "metadata": {},
     "output_type": "execute_result"
    }
   ],
   "source": [
    "p2.b.simplify()"
   ]
  },
  {
   "cell_type": "code",
   "execution_count": 28,
   "id": "a360778e-78da-4b98-8815-97d4c693b707",
   "metadata": {
    "tags": []
   },
   "outputs": [],
   "source": [
    "def compute_something(theta1,theta2):\n",
    "    r1 = Quaternion.unit_from_vec_angle([1,0,0],theta1)\n",
    "    r2 = Quaternion.unit_from_vec_angle([1,1,0],theta2)"
   ]
  },
  {
   "cell_type": "code",
   "execution_count": 29,
   "id": "79789428-8522-49ec-bf21-fb36ff94a5ae",
   "metadata": {
    "tags": []
   },
   "outputs": [
    {
     "data": {
      "text/plain": [
       "0.7071067811865476,0.7071067811865475,0.0,0.0"
      ]
     },
     "execution_count": 29,
     "metadata": {},
     "output_type": "execute_result"
    }
   ],
   "source": [
    "r"
   ]
  },
  {
   "cell_type": "code",
   "execution_count": null,
   "id": "d6dc9330-c7a2-49cf-b719-0516edbcdb2b",
   "metadata": {},
   "outputs": [],
   "source": []
  }
 ],
 "metadata": {
  "kernelspec": {
   "display_name": "Python 3 (ipykernel)",
   "language": "python",
   "name": "python3"
  },
  "language_info": {
   "codemirror_mode": {
    "name": "ipython",
    "version": 3
   },
   "file_extension": ".py",
   "mimetype": "text/x-python",
   "name": "python",
   "nbconvert_exporter": "python",
   "pygments_lexer": "ipython3",
   "version": "3.10.12"
  }
 },
 "nbformat": 4,
 "nbformat_minor": 5
}
