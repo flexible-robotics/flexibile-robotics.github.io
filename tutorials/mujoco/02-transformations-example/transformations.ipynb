{
 "cells": [
  {
   "cell_type": "code",
   "execution_count": 1,
   "id": "38c44e58-85d1-4741-acd0-ca86ff15a961",
   "metadata": {
    "tags": []
   },
   "outputs": [],
   "source": [
    "import os\n",
    "import mujoco\n",
    "import numpy\n",
    "import mediapy as media\n",
    "import matplotlib.pyplot as plt"
   ]
  },
  {
   "cell_type": "code",
   "execution_count": 2,
   "id": "a80ade87-e6f8-4848-8025-50dc21ad815d",
   "metadata": {
    "tags": []
   },
   "outputs": [],
   "source": [
    "xml = '''\n",
    "<mujoco>\n",
    "    <worldbody>\n",
    "        <light name=\"light1\" pos=\"0 0 5\" />\n",
    "        <camera name=\"world\" pos=\"0 -5 0\" quat=\".707 .707 0 0\"/>\n",
    "        <body pos=\"0 0 0\" quat=\"1 0 0 0\">\n",
    "            <geom type=\"box\" size=\".5 .05 .05\" pos=\"0 0 0\" rgba=\"1 0 0 1\"/>\n",
    "            <geom type=\"box\" size=\".05 .5 .05\" pos=\"0 0 0\" rgba=\"0 1 0 1\"/>\n",
    "            <geom type=\"box\" size=\".05 .05 .5\" pos=\"0 0 0\" rgba=\"0 0 1 1\"/>\n",
    "        </body>\n",
    "    </worldbody>\n",
    "</mujoco>\n",
    "'''"
   ]
  },
  {
   "cell_type": "code",
   "execution_count": 3,
   "id": "f798f96b-f69e-4a08-84aa-ae20b5799757",
   "metadata": {
    "tags": []
   },
   "outputs": [],
   "source": [
    "model = mujoco.MjModel.from_xml_string(xml)\n",
    "data = mujoco.MjData(model)\n",
    "renderer = mujoco.Renderer(model)"
   ]
  },
  {
   "cell_type": "code",
   "execution_count": 4,
   "id": "df03a937-74cc-4a17-9519-6042be86287b",
   "metadata": {
    "tags": []
   },
   "outputs": [
    {
     "data": {
      "text/html": [
       "<table class=\"show_images\" style=\"border-spacing:0px;\"><tr><td style=\"padding:1px;\"><img width=\"320\" height=\"240\" style=\"image-rendering:auto; object-fit:cover;\" src=\"data:image/png;base64,iVBORw0KGgoAAAANSUhEUgAAAUAAAADwCAIAAAD+Tyo8AAACYElEQVR4nO3dwU0bQRTHYTvKfVtwAUgugENuaQNSRKqgiIQ2cuNAAZYowC1sBcslSqwFJRHSZvi/930nM/JhkPX4ecaW2O0AAAAAAAAAAAAAAAAAAAAAAAAAAAAAAAAAAAAAAAAAAAAAAAAAAAAAAAAAAAAAAAAAAAAAAAAAAAAAAAAAAAAAAAAAAAAAAAAAAAAAAAAAAAAAAIC324/eAJuYpuNqZZ5PQ3bCpgxwTdfXP1Yrj4+fh+yETX0cvQE24k9zCx9GbwB4OwWuaS/APSgwBFPgqiS4BQWGYApckzNwEwoMwRS4KgluQYEhmALX5AzchAJDMAWuSoJbUGAIpsA1OQM3ocAQzABDMAMMwQwwBDPAEMwtdFWuoVtQYAhmgCGYAYZgzsBFHc7rlYcBu2BrrjreheM03V1d/Xwx9vvdrxfmj48vXf58Puzub9dPuPm+XA718nITy/J7/W+Pvz49neb5H34ztuUtNAQzwBDMAEMwAwzBDDAEcwtd06ebb6uVh/svQ3bCpnwOXNT5MHoH/A/eQkMwAwzBDDAEcwau6pXvSlKPAkMwAwzBDDAEM8AQzABDMLfQNS0uoXtQYAimwFVJcAsKDMEUuCZn4CYUGIIpcFUS3IICQzAFrskZuAkFhmAKXJUEt6DAEEyBa3IGbkKBIZgCVyXBLfjPDDVN03G1Ms+nITsBAAAAAAAAAAAAAAAAAAAAAAAAAAAAAAAAAAAAAAAAAAAAAAAAAAAAAAAAAAAAAAAAAAAAAAAAAAAAAAAAAAAAAAAAAAAAAAAAAAAAAAAAAAAAAAB4t54BRKE0XcmBMpUAAAAASUVORK5CYII=\"/></td></tr></table>"
      ],
      "text/plain": [
       "<IPython.core.display.HTML object>"
      ]
     },
     "metadata": {},
     "output_type": "display_data"
    }
   ],
   "source": [
    "mujoco.mj_resetData(model,data)\n",
    "mujoco.mj_step(model,data)\n",
    "# renderer.update_scene(data)\n",
    "renderer.update_scene(data,\"world\")\n",
    "pixels = renderer.render()\n",
    "media.show_image(pixels)"
   ]
  },
  {
   "cell_type": "code",
   "execution_count": null,
   "id": "a6ca14fa-d04a-4785-893c-b71b333b60d5",
   "metadata": {},
   "outputs": [],
   "source": []
  }
 ],
 "metadata": {
  "kernelspec": {
   "display_name": "Python 3 (ipykernel)",
   "language": "python",
   "name": "python3"
  },
  "language_info": {
   "codemirror_mode": {
    "name": "ipython",
    "version": 3
   },
   "file_extension": ".py",
   "mimetype": "text/x-python",
   "name": "python",
   "nbconvert_exporter": "python",
   "pygments_lexer": "ipython3",
   "version": "3.9.18"
  }
 },
 "nbformat": 4,
 "nbformat_minor": 5
}
