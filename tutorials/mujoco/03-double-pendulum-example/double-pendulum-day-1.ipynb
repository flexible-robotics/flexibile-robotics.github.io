{
 "cells": [
  {
   "cell_type": "code",
   "execution_count": null,
   "id": "96d01950-8834-4354-ad15-a8a6a26ace04",
   "metadata": {
    "tags": []
   },
   "outputs": [],
   "source": [
    "import mujoco\n",
    "import numpy\n",
    "import mediapy as media\n",
    "import matplotlib.pyplot as plt\n",
    "import math\n",
    "import yaml"
   ]
  },
  {
   "cell_type": "code",
   "execution_count": null,
   "id": "16fe7b29-6c3e-4da9-91dd-f91ef4410b5c",
   "metadata": {
    "tags": []
   },
   "outputs": [],
   "source": [
    "xml='''\n",
    "<mujoco>\n",
    "    <option timestep=\".001\"/>\n",
    "    <option><flag contact=\"enable\"/></option>\n",
    "    <option gravity=\"0 0 -9.81\"><flag gravity=\"enable\"/></option>\n",
    "    <compiler angle=\"degree\"/>\n",
    "    <worldbody>\n",
    "        <light pos=\"0 0 1\"/>\n",
    "        <body name=\"floor\" pos=\"0 0 0\">\n",
    "          <geom pos=\"0 0 -.05\" size=\"5 5 .05\" type=\"plane\" rgba=\"1 0.83 0.61 0.5\"/>\n",
    "        </body>\n",
    "        <body name=\"A\" pos=\"0 0 1\" axisangle=\"0 1 0 0\">\n",
    "            <joint name=\"j1\" type=\"hinge\" axis=\"0 1 0\" pos=\"0 0 0\" stiffness=\"0\" damping=\"10\" limited=\"false\" range=\"0 45\"/>\n",
    "            <geom type=\"box\" size=\".5 .05 .05\" pos=\".5 0 0\" rgba=\"1 0 0 1\"/>\n",
    "            <inertial mass=\"1\" diaginertia=\"1 1 1\" pos=\".5 0 0\"/>\n",
    "            <body name=\"B\" pos=\"1 0 0\" axisangle=\"0 1 0 0\">\n",
    "                <joint name=\"j2\" type=\"hinge\" axis=\"0 1 0\" pos=\"0 0 0\"\n",
    "                stiffness=\"0\" damping=\"10\" limited=\"false\" range=\"0 45\"/>\n",
    "                <geom type=\"box\" size=\".5 .05 .05\" pos=\".5 0 0\" rgba=\"0 1 0 1\"  mass=\"1\"/>\n",
    "            </body>        \n",
    "        </body>\n",
    "    </worldbody>\n",
    "</mujoco>\n",
    "'''"
   ]
  },
  {
   "cell_type": "code",
   "execution_count": null,
   "id": "73725523-bf0a-4ad7-8e2f-2bcb16051021",
   "metadata": {
    "tags": []
   },
   "outputs": [],
   "source": [
    "model = mujoco.MjModel.from_xml_string(xml)\n",
    "data = mujoco.MjData(model)\n",
    "renderer = mujoco.Renderer(model)"
   ]
  },
  {
   "cell_type": "code",
   "execution_count": null,
   "id": "9c02cd87-f250-4f04-b7bf-4745f36d2443",
   "metadata": {
    "tags": []
   },
   "outputs": [],
   "source": [
    "mujoco.mj_resetData(model,data)\n",
    "# data.qpos[0:2] = [45*math.pi/180,45*math.pi/180]\n",
    "# data.qvel[0:2] = [-3,0]\n",
    "frames=[]\n",
    "\n",
    "duration = 3\n",
    "framerate =30\n",
    "\n",
    "q = []\n",
    "w = []\n",
    "t = []\n",
    "x = []\n",
    "\n",
    "while data.time<duration:\n",
    "\n",
    "    mujoco.mj_step(model,data)\n",
    "    q.append(data.qpos.copy())\n",
    "    w.append(data.qvel.copy())\n",
    "    x.append(data.xpos.copy())\n",
    "    t.append(data.time)\n",
    "    if len(frames)<data.time*framerate:\n",
    "    \n",
    "        renderer.update_scene(data)\n",
    "        #renderer.update_scene(data,\"world\")\n",
    "        pixels = renderer.render()\n",
    "        frames.append(pixels)\n",
    "        \n",
    "media.show_video(frames,fps = framerate)"
   ]
  },
  {
   "cell_type": "code",
   "execution_count": null,
   "id": "a733bba8-354f-4699-8033-2cbdcaf11f7f",
   "metadata": {
    "tags": []
   },
   "outputs": [],
   "source": [
    "q = numpy.array(q)\n",
    "w = numpy.array(w)\n",
    "x = numpy.array(x)\n",
    "t = numpy.array(t)"
   ]
  },
  {
   "cell_type": "code",
   "execution_count": null,
   "id": "f7e6f8fc-d02e-4cbc-b6c1-e6183d6cdcdf",
   "metadata": {
    "tags": []
   },
   "outputs": [],
   "source": [
    "artist = plt.plot(t,q)\n",
    "plt.legend(artist,['q1','q2'])"
   ]
  },
  {
   "cell_type": "code",
   "execution_count": null,
   "id": "d2417d78-c06c-4435-b48f-b3fe7e6e719e",
   "metadata": {},
   "outputs": [],
   "source": [
    "artist = plt.plot(t,w)\n",
    "plt.legend(artist,['w1','w2'])"
   ]
  },
  {
   "cell_type": "code",
   "execution_count": null,
   "id": "50bb2bcb-9b02-4d60-b9ce-61fc311537ac",
   "metadata": {},
   "outputs": [],
   "source": [
    "x.shape"
   ]
  },
  {
   "cell_type": "code",
   "execution_count": null,
   "id": "e4bc6284-8544-4917-a53f-1c4217b7e400",
   "metadata": {},
   "outputs": [],
   "source": [
    "plt.figure()\n",
    "plt.plot(x[:,:,0],x[:,:,2])"
   ]
  },
  {
   "cell_type": "code",
   "execution_count": null,
   "id": "5e1751aa-a597-42a2-9fd0-a7b14adb3c20",
   "metadata": {
    "tags": []
   },
   "outputs": [],
   "source": [
    "import yaml\n",
    "\n",
    "data = {}\n",
    "data['t']=t.tolist()\n",
    "data['q']=q.tolist()\n",
    "\n",
    "with open('data.yml','w') as f:\n",
    "    yaml.dump(data,f)\n",
    "\n",
    "with open('data.yml') as f:\n",
    "    data = yaml.load(f,Loader=yaml.Loader)\n",
    "    \n",
    "q = numpy.array(data['q'])\n",
    "t = numpy.array(data['t'])\n",
    "    "
   ]
  },
  {
   "cell_type": "code",
   "execution_count": null,
   "id": "cc64d60b-995a-44e2-81ca-af9c60556590",
   "metadata": {
    "tags": []
   },
   "outputs": [],
   "source": [
    "artist = plt.plot(t,q)\n",
    "plt.legend(artist,['q1','q2'])"
   ]
  }
 ],
 "metadata": {
  "kernelspec": {
   "display_name": "Python 3 (ipykernel)",
   "language": "python",
   "name": "python3"
  },
  "language_info": {
   "codemirror_mode": {
    "name": "ipython",
    "version": 3
   },
   "file_extension": ".py",
   "mimetype": "text/x-python",
   "name": "python",
   "nbconvert_exporter": "python",
   "pygments_lexer": "ipython3",
   "version": "3.11.5"
  }
 },
 "nbformat": 4,
 "nbformat_minor": 5
}
